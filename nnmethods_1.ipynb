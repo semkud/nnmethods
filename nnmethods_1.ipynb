{
  "nbformat": 4,
  "nbformat_minor": 0,
  "metadata": {
    "colab": {
      "name": "nnmethods-1",
      "provenance": [],
      "collapsed_sections": [],
      "authorship_tag": "ABX9TyO0hDTtgphRBHEBOONJhcu+",
      "include_colab_link": true
    },
    "kernelspec": {
      "name": "python3",
      "display_name": "Python 3"
    },
    "language_info": {
      "name": "python"
    }
  },
  "cells": [
    {
      "cell_type": "markdown",
      "metadata": {
        "id": "view-in-github",
        "colab_type": "text"
      },
      "source": [
        "<a href=\"https://colab.research.google.com/github/semkud/nnmethods/blob/main/nnmethods_1.ipynb\" target=\"_parent\"><img src=\"https://colab.research.google.com/assets/colab-badge.svg\" alt=\"Open In Colab\"/></a>"
      ]
    },
    {
      "cell_type": "markdown",
      "metadata": {
        "id": "Ja1vNm1RR8Qj"
      },
      "source": [
        "Откроем датасет, посмотрим, как он устроен"
      ]
    },
    {
      "cell_type": "code",
      "metadata": {
        "colab": {
          "base_uri": "https://localhost:8080/"
        },
        "id": "ltuhMcN3Qw-g",
        "outputId": "cfaadbe5-c7c2-4a8f-d8bb-8bd8dc8783b3"
      },
      "source": [
        "import pandas as pd\n",
        "table = pd.read_csv('Shoes_Data.csv')\n",
        "print(table)"
      ],
      "execution_count": 1,
      "outputs": [
        {
          "output_type": "stream",
          "name": "stdout",
          "text": [
            "                                                  title  ... Shoe Type\n",
            "0       CLYMB Outdoor Sports Running Shoes for Mens Boy  ...       Men\n",
            "1                 Bourge Men's Loire-z126 Running Shoes  ...       Men\n",
            "2                                  T-Rock Men's Sneaker  ...       Men\n",
            "3     Robbie jones Sneakers Casual Canvas Fabric Col...  ...       Men\n",
            "4                          Sparx Men's Sd0323g Sneakers  ...       Men\n",
            "...                                                 ...  ...       ...\n",
            "1225              Nike Men's React Vision Running Shoes  ...     Women\n",
            "1226     Puma Men's B.O.G Limitless Hi Evoknit Sneakers  ...     Women\n",
            "1227  new balance Women's FuelCell Echolucent Runnin...  ...     Women\n",
            "1228  Nike Women's WMNS Air Zoom Pegasus 37 Running ...  ...     Women\n",
            "1229      ASICS Women Gt-2000 7 Lite-Show Running Shoes  ...     Women\n",
            "\n",
            "[1230 rows x 8 columns]\n"
          ]
        }
      ]
    },
    {
      "cell_type": "code",
      "metadata": {
        "colab": {
          "base_uri": "https://localhost:8080/"
        },
        "id": "Hz2He0lTRN-D",
        "outputId": "4fd517bd-4b6f-4929-8672-605592271d02"
      },
      "source": [
        "table = table.drop_duplicates(subset=None, keep='first', inplace=False)\n",
        "table.info()"
      ],
      "execution_count": 2,
      "outputs": [
        {
          "output_type": "stream",
          "name": "stdout",
          "text": [
            "<class 'pandas.core.frame.DataFrame'>\n",
            "Int64Index: 1015 entries, 0 to 1197\n",
            "Data columns (total 8 columns):\n",
            " #   Column               Non-Null Count  Dtype \n",
            "---  ------               --------------  ----- \n",
            " 0   title                1015 non-null   object\n",
            " 1   price                1015 non-null   object\n",
            " 2   rating               1015 non-null   object\n",
            " 3   total_reviews        1015 non-null   object\n",
            " 4   product_description  1015 non-null   object\n",
            " 5   reviews              1015 non-null   object\n",
            " 6   reviews_rating       1015 non-null   object\n",
            " 7   Shoe Type            1015 non-null   object\n",
            "dtypes: object(8)\n",
            "memory usage: 71.4+ KB\n"
          ]
        }
      ]
    },
    {
      "cell_type": "markdown",
      "metadata": {
        "id": "mKlKAiKSiJjs"
      },
      "source": [
        "Опа, убрали 115 повторений. В таблице нет пустых значений.\n",
        "\n",
        "\n",
        "\n",
        "Посмотрим, что лежит в таблице:"
      ]
    },
    {
      "cell_type": "code",
      "metadata": {
        "colab": {
          "base_uri": "https://localhost:8080/",
          "height": 310
        },
        "id": "y4hryQ1bRXA-",
        "outputId": "a0fa77b1-2eda-4eca-e454-191c91eaf739"
      },
      "source": [
        "pd.set_option('display.max_columns', 10)\n",
        "pd.set_option('display.max_rows', 10)\n",
        "table.head()"
      ],
      "execution_count": 3,
      "outputs": [
        {
          "output_type": "execute_result",
          "data": {
            "text/html": [
              "<div>\n",
              "<style scoped>\n",
              "    .dataframe tbody tr th:only-of-type {\n",
              "        vertical-align: middle;\n",
              "    }\n",
              "\n",
              "    .dataframe tbody tr th {\n",
              "        vertical-align: top;\n",
              "    }\n",
              "\n",
              "    .dataframe thead th {\n",
              "        text-align: right;\n",
              "    }\n",
              "</style>\n",
              "<table border=\"1\" class=\"dataframe\">\n",
              "  <thead>\n",
              "    <tr style=\"text-align: right;\">\n",
              "      <th></th>\n",
              "      <th>title</th>\n",
              "      <th>price</th>\n",
              "      <th>rating</th>\n",
              "      <th>total_reviews</th>\n",
              "      <th>product_description</th>\n",
              "      <th>reviews</th>\n",
              "      <th>reviews_rating</th>\n",
              "      <th>Shoe Type</th>\n",
              "    </tr>\n",
              "  </thead>\n",
              "  <tbody>\n",
              "    <tr>\n",
              "      <th>0</th>\n",
              "      <td>CLYMB Outdoor Sports Running Shoes for Mens Boy</td>\n",
              "      <td>₹279.00</td>\n",
              "      <td>2.9 out of 5 stars</td>\n",
              "      <td>2389 ratings</td>\n",
              "      <td>Elevate your style with this classy pair of Ru...</td>\n",
              "      <td>Not happy with product|| It's not as expected....</td>\n",
              "      <td>1.0 out of 5 stars|| 1.0 out of 5 stars|| 3.0 ...</td>\n",
              "      <td>Men</td>\n",
              "    </tr>\n",
              "    <tr>\n",
              "      <th>1</th>\n",
              "      <td>Bourge Men's Loire-z126 Running Shoes</td>\n",
              "      <td>₹479.00</td>\n",
              "      <td>3.9 out of 5 stars</td>\n",
              "      <td>11520 ratings</td>\n",
              "      <td>The product will be an excellent pick for you....</td>\n",
              "      <td>Memory cushioning in these shoes is the best f...</td>\n",
              "      <td>5.0 out of 5 stars|| 1.0 out of 5 stars|| 5.0 ...</td>\n",
              "      <td>Men</td>\n",
              "    </tr>\n",
              "    <tr>\n",
              "      <th>2</th>\n",
              "      <td>T-Rock Men's Sneaker</td>\n",
              "      <td>₹430.00</td>\n",
              "      <td>3.3 out of 5 stars</td>\n",
              "      <td>1251 ratings</td>\n",
              "      <td>Flaunt with these stylish and unique red casua...</td>\n",
              "      <td>Worth to its amount|| Go for it|| Perfect|| 5 ...</td>\n",
              "      <td>5.0 out of 5 stars|| 5.0 out of 5 stars|| 5.0 ...</td>\n",
              "      <td>Men</td>\n",
              "    </tr>\n",
              "    <tr>\n",
              "      <th>3</th>\n",
              "      <td>Robbie jones Sneakers Casual Canvas Fabric Col...</td>\n",
              "      <td>₹499.00</td>\n",
              "      <td>4.2 out of 5 stars</td>\n",
              "      <td>3 ratings</td>\n",
              "      <td>Robbie Jones Shoes Are Designed To Keeping In ...</td>\n",
              "      <td>Sup quality|| Good but not expected|| Awesome 👌.!</td>\n",
              "      <td>5.0 out of 5 stars|| 3.0 out of 5 stars|| 5.0 ...</td>\n",
              "      <td>Men</td>\n",
              "    </tr>\n",
              "    <tr>\n",
              "      <th>4</th>\n",
              "      <td>Sparx Men's Sd0323g Sneakers</td>\n",
              "      <td>₹499.00</td>\n",
              "      <td>4.2 out of 5 stars</td>\n",
              "      <td>20110 ratings</td>\n",
              "      <td>Sparx is a spectacular range of footwear from ...</td>\n",
              "      <td>Best|| Satisfied!|| Affordable beauty 😘😘😘😘 the...</td>\n",
              "      <td>5.0 out of 5 stars|| 5.0 out of 5 stars|| 5.0 ...</td>\n",
              "      <td>Men</td>\n",
              "    </tr>\n",
              "  </tbody>\n",
              "</table>\n",
              "</div>"
            ],
            "text/plain": [
              "                                               title    price  \\\n",
              "0    CLYMB Outdoor Sports Running Shoes for Mens Boy  ₹279.00   \n",
              "1              Bourge Men's Loire-z126 Running Shoes  ₹479.00   \n",
              "2                               T-Rock Men's Sneaker  ₹430.00   \n",
              "3  Robbie jones Sneakers Casual Canvas Fabric Col...  ₹499.00   \n",
              "4                       Sparx Men's Sd0323g Sneakers  ₹499.00   \n",
              "\n",
              "               rating  total_reviews  \\\n",
              "0  2.9 out of 5 stars   2389 ratings   \n",
              "1  3.9 out of 5 stars  11520 ratings   \n",
              "2  3.3 out of 5 stars   1251 ratings   \n",
              "3  4.2 out of 5 stars      3 ratings   \n",
              "4  4.2 out of 5 stars  20110 ratings   \n",
              "\n",
              "                                 product_description  \\\n",
              "0  Elevate your style with this classy pair of Ru...   \n",
              "1  The product will be an excellent pick for you....   \n",
              "2  Flaunt with these stylish and unique red casua...   \n",
              "3  Robbie Jones Shoes Are Designed To Keeping In ...   \n",
              "4  Sparx is a spectacular range of footwear from ...   \n",
              "\n",
              "                                             reviews  \\\n",
              "0  Not happy with product|| It's not as expected....   \n",
              "1  Memory cushioning in these shoes is the best f...   \n",
              "2  Worth to its amount|| Go for it|| Perfect|| 5 ...   \n",
              "3  Sup quality|| Good but not expected|| Awesome 👌.!   \n",
              "4  Best|| Satisfied!|| Affordable beauty 😘😘😘😘 the...   \n",
              "\n",
              "                                      reviews_rating Shoe Type  \n",
              "0  1.0 out of 5 stars|| 1.0 out of 5 stars|| 3.0 ...       Men  \n",
              "1  5.0 out of 5 stars|| 1.0 out of 5 stars|| 5.0 ...       Men  \n",
              "2  5.0 out of 5 stars|| 5.0 out of 5 stars|| 5.0 ...       Men  \n",
              "3  5.0 out of 5 stars|| 3.0 out of 5 stars|| 5.0 ...       Men  \n",
              "4  5.0 out of 5 stars|| 5.0 out of 5 stars|| 5.0 ...       Men  "
            ]
          },
          "metadata": {},
          "execution_count": 3
        }
      ]
    },
    {
      "cell_type": "markdown",
      "metadata": {
        "id": "0EODDQIESEgj"
      },
      "source": [
        "Получается\n",
        "\n",
        "1) в названии написана фирма и название модели\n",
        "\\\n",
        "2) цену надо очистить от знака валюты - это целевая переменная\n",
        "\\\n",
        "3) рейтинг перевести из строки в число\n",
        "\\\n",
        "4) общее число отзывов нам не интересно\n",
        "\\\n",
        "5) описание продукта - то, что мы будем главным образом использовать при обучении, к нему будем применять главный препроцессинг\n",
        "\\\n",
        "6) отзывы и рейтинги отзывов - пока выкидываем, для второй части задания только они и понадобятся\n",
        "\\\n",
        "7) тип обуви - переведем в числовой формат\n",
        "\n",
        "\n",
        "Почистим столбцы в соответствии с планом и оставим только нужные:\n",
        "\n"
      ]
    },
    {
      "cell_type": "code",
      "metadata": {
        "colab": {
          "base_uri": "https://localhost:8080/",
          "height": 206
        },
        "id": "-llH2x9WSMe7",
        "outputId": "e136f83c-4803-4266-c48e-8d3b67adc553"
      },
      "source": [
        "cleantable = pd.DataFrame()\n",
        "cleantable['title'] = [str(x).lower() for x in table['title']]\n",
        "cleantable['price'] = [float(x[1::]) for x in table['price']]\n",
        "cleantable['rating'] = [float(x[0:3]) for x in table['rating']]\n",
        "cleantable['desc'] = [str(x).lower() for x in table['product_description']]\n",
        "sex = []\n",
        "for x in table['Shoe Type']:\n",
        "  if x == 'Men':\n",
        "    sex.append(1)\n",
        "  else:\n",
        "    sex.append(0)\n",
        "cleantable['sex'] = sex\n",
        "cleantable.head()"
      ],
      "execution_count": 4,
      "outputs": [
        {
          "output_type": "execute_result",
          "data": {
            "text/html": [
              "<div>\n",
              "<style scoped>\n",
              "    .dataframe tbody tr th:only-of-type {\n",
              "        vertical-align: middle;\n",
              "    }\n",
              "\n",
              "    .dataframe tbody tr th {\n",
              "        vertical-align: top;\n",
              "    }\n",
              "\n",
              "    .dataframe thead th {\n",
              "        text-align: right;\n",
              "    }\n",
              "</style>\n",
              "<table border=\"1\" class=\"dataframe\">\n",
              "  <thead>\n",
              "    <tr style=\"text-align: right;\">\n",
              "      <th></th>\n",
              "      <th>title</th>\n",
              "      <th>price</th>\n",
              "      <th>rating</th>\n",
              "      <th>desc</th>\n",
              "      <th>sex</th>\n",
              "    </tr>\n",
              "  </thead>\n",
              "  <tbody>\n",
              "    <tr>\n",
              "      <th>0</th>\n",
              "      <td>clymb outdoor sports running shoes for mens boy</td>\n",
              "      <td>279.0</td>\n",
              "      <td>2.9</td>\n",
              "      <td>elevate your style with this classy pair of ru...</td>\n",
              "      <td>1</td>\n",
              "    </tr>\n",
              "    <tr>\n",
              "      <th>1</th>\n",
              "      <td>bourge men's loire-z126 running shoes</td>\n",
              "      <td>479.0</td>\n",
              "      <td>3.9</td>\n",
              "      <td>the product will be an excellent pick for you....</td>\n",
              "      <td>1</td>\n",
              "    </tr>\n",
              "    <tr>\n",
              "      <th>2</th>\n",
              "      <td>t-rock men's sneaker</td>\n",
              "      <td>430.0</td>\n",
              "      <td>3.3</td>\n",
              "      <td>flaunt with these stylish and unique red casua...</td>\n",
              "      <td>1</td>\n",
              "    </tr>\n",
              "    <tr>\n",
              "      <th>3</th>\n",
              "      <td>robbie jones sneakers casual canvas fabric col...</td>\n",
              "      <td>499.0</td>\n",
              "      <td>4.2</td>\n",
              "      <td>robbie jones shoes are designed to keeping in ...</td>\n",
              "      <td>1</td>\n",
              "    </tr>\n",
              "    <tr>\n",
              "      <th>4</th>\n",
              "      <td>sparx men's sd0323g sneakers</td>\n",
              "      <td>499.0</td>\n",
              "      <td>4.2</td>\n",
              "      <td>sparx is a spectacular range of footwear from ...</td>\n",
              "      <td>1</td>\n",
              "    </tr>\n",
              "  </tbody>\n",
              "</table>\n",
              "</div>"
            ],
            "text/plain": [
              "                                               title  price  rating  \\\n",
              "0    clymb outdoor sports running shoes for mens boy  279.0     2.9   \n",
              "1              bourge men's loire-z126 running shoes  479.0     3.9   \n",
              "2                               t-rock men's sneaker  430.0     3.3   \n",
              "3  robbie jones sneakers casual canvas fabric col...  499.0     4.2   \n",
              "4                       sparx men's sd0323g sneakers  499.0     4.2   \n",
              "\n",
              "                                                desc  sex  \n",
              "0  elevate your style with this classy pair of ru...    1  \n",
              "1  the product will be an excellent pick for you....    1  \n",
              "2  flaunt with these stylish and unique red casua...    1  \n",
              "3  robbie jones shoes are designed to keeping in ...    1  \n",
              "4  sparx is a spectacular range of footwear from ...    1  "
            ]
          },
          "metadata": {},
          "execution_count": 4
        }
      ]
    },
    {
      "cell_type": "code",
      "metadata": {
        "colab": {
          "base_uri": "https://localhost:8080/"
        },
        "id": "ra4Qxktn4wHm",
        "outputId": "04c33ec4-34df-4f83-9874-243351065784"
      },
      "source": [
        "cleantable.info() #Здесь я не уверен, норм ли, что секс - инт, а остальное флоат. Мб сделать секс тоже флоатом? Или вообще сделать one-hot колонку из него.."
      ],
      "execution_count": 5,
      "outputs": [
        {
          "output_type": "stream",
          "name": "stdout",
          "text": [
            "<class 'pandas.core.frame.DataFrame'>\n",
            "RangeIndex: 1015 entries, 0 to 1014\n",
            "Data columns (total 5 columns):\n",
            " #   Column  Non-Null Count  Dtype  \n",
            "---  ------  --------------  -----  \n",
            " 0   title   1015 non-null   object \n",
            " 1   price   1015 non-null   float64\n",
            " 2   rating  1015 non-null   float64\n",
            " 3   desc    1015 non-null   object \n",
            " 4   sex     1015 non-null   int64  \n",
            "dtypes: float64(2), int64(1), object(2)\n",
            "memory usage: 39.8+ KB\n"
          ]
        }
      ]
    },
    {
      "cell_type": "markdown",
      "metadata": {
        "id": "TEfXI2ekll5Z"
      },
      "source": [
        "Посмотрим, какие бывают значения в колонках:"
      ]
    },
    {
      "cell_type": "code",
      "metadata": {
        "id": "q8eIWmwVTVyd",
        "colab": {
          "base_uri": "https://localhost:8080/",
          "height": 423
        },
        "outputId": "92cc7262-e887-4812-9790-74208388d2dd"
      },
      "source": [
        "cleantable.describe(include='all')"
      ],
      "execution_count": 6,
      "outputs": [
        {
          "output_type": "execute_result",
          "data": {
            "text/html": [
              "<div>\n",
              "<style scoped>\n",
              "    .dataframe tbody tr th:only-of-type {\n",
              "        vertical-align: middle;\n",
              "    }\n",
              "\n",
              "    .dataframe tbody tr th {\n",
              "        vertical-align: top;\n",
              "    }\n",
              "\n",
              "    .dataframe thead th {\n",
              "        text-align: right;\n",
              "    }\n",
              "</style>\n",
              "<table border=\"1\" class=\"dataframe\">\n",
              "  <thead>\n",
              "    <tr style=\"text-align: right;\">\n",
              "      <th></th>\n",
              "      <th>title</th>\n",
              "      <th>price</th>\n",
              "      <th>rating</th>\n",
              "      <th>desc</th>\n",
              "      <th>sex</th>\n",
              "    </tr>\n",
              "  </thead>\n",
              "  <tbody>\n",
              "    <tr>\n",
              "      <th>count</th>\n",
              "      <td>1015</td>\n",
              "      <td>1015.000000</td>\n",
              "      <td>1015.000000</td>\n",
              "      <td>1015</td>\n",
              "      <td>1015.000000</td>\n",
              "    </tr>\n",
              "    <tr>\n",
              "      <th>unique</th>\n",
              "      <td>902</td>\n",
              "      <td>NaN</td>\n",
              "      <td>NaN</td>\n",
              "      <td>715</td>\n",
              "      <td>NaN</td>\n",
              "    </tr>\n",
              "    <tr>\n",
              "      <th>top</th>\n",
              "      <td>adidas men running shoes</td>\n",
              "      <td>NaN</td>\n",
              "      <td>NaN</td>\n",
              "      <td>the product will be an excellent pick for you....</td>\n",
              "      <td>NaN</td>\n",
              "    </tr>\n",
              "    <tr>\n",
              "      <th>freq</th>\n",
              "      <td>7</td>\n",
              "      <td>NaN</td>\n",
              "      <td>NaN</td>\n",
              "      <td>27</td>\n",
              "      <td>NaN</td>\n",
              "    </tr>\n",
              "    <tr>\n",
              "      <th>mean</th>\n",
              "      <td>NaN</td>\n",
              "      <td>1789.546788</td>\n",
              "      <td>3.941379</td>\n",
              "      <td>NaN</td>\n",
              "      <td>0.794089</td>\n",
              "    </tr>\n",
              "    <tr>\n",
              "      <th>...</th>\n",
              "      <td>...</td>\n",
              "      <td>...</td>\n",
              "      <td>...</td>\n",
              "      <td>...</td>\n",
              "      <td>...</td>\n",
              "    </tr>\n",
              "    <tr>\n",
              "      <th>min</th>\n",
              "      <td>NaN</td>\n",
              "      <td>127.000000</td>\n",
              "      <td>1.000000</td>\n",
              "      <td>NaN</td>\n",
              "      <td>0.000000</td>\n",
              "    </tr>\n",
              "    <tr>\n",
              "      <th>25%</th>\n",
              "      <td>NaN</td>\n",
              "      <td>569.000000</td>\n",
              "      <td>3.800000</td>\n",
              "      <td>NaN</td>\n",
              "      <td>1.000000</td>\n",
              "    </tr>\n",
              "    <tr>\n",
              "      <th>50%</th>\n",
              "      <td>NaN</td>\n",
              "      <td>1399.000000</td>\n",
              "      <td>4.000000</td>\n",
              "      <td>NaN</td>\n",
              "      <td>1.000000</td>\n",
              "    </tr>\n",
              "    <tr>\n",
              "      <th>75%</th>\n",
              "      <td>NaN</td>\n",
              "      <td>2403.500000</td>\n",
              "      <td>4.200000</td>\n",
              "      <td>NaN</td>\n",
              "      <td>1.000000</td>\n",
              "    </tr>\n",
              "    <tr>\n",
              "      <th>max</th>\n",
              "      <td>NaN</td>\n",
              "      <td>7992.000000</td>\n",
              "      <td>5.000000</td>\n",
              "      <td>NaN</td>\n",
              "      <td>1.000000</td>\n",
              "    </tr>\n",
              "  </tbody>\n",
              "</table>\n",
              "<p>11 rows × 5 columns</p>\n",
              "</div>"
            ],
            "text/plain": [
              "                           title        price       rating  \\\n",
              "count                       1015  1015.000000  1015.000000   \n",
              "unique                       902          NaN          NaN   \n",
              "top     adidas men running shoes          NaN          NaN   \n",
              "freq                           7          NaN          NaN   \n",
              "mean                         NaN  1789.546788     3.941379   \n",
              "...                          ...          ...          ...   \n",
              "min                          NaN   127.000000     1.000000   \n",
              "25%                          NaN   569.000000     3.800000   \n",
              "50%                          NaN  1399.000000     4.000000   \n",
              "75%                          NaN  2403.500000     4.200000   \n",
              "max                          NaN  7992.000000     5.000000   \n",
              "\n",
              "                                                     desc          sex  \n",
              "count                                                1015  1015.000000  \n",
              "unique                                                715          NaN  \n",
              "top     the product will be an excellent pick for you....          NaN  \n",
              "freq                                                   27          NaN  \n",
              "mean                                                  NaN     0.794089  \n",
              "...                                                   ...          ...  \n",
              "min                                                   NaN     0.000000  \n",
              "25%                                                   NaN     1.000000  \n",
              "50%                                                   NaN     1.000000  \n",
              "75%                                                   NaN     1.000000  \n",
              "max                                                   NaN     1.000000  \n",
              "\n",
              "[11 rows x 5 columns]"
            ]
          },
          "metadata": {},
          "execution_count": 6
        }
      ]
    },
    {
      "cell_type": "markdown",
      "metadata": {
        "id": "UjzHF0iYmCa7"
      },
      "source": [
        "Мы наблюдаем цену от 127 до почти 8000, при этом половина товаров дешевле 1400, а 3/4 товаров дешевле 2403. Соответственно горб распределения смещен влево, на промежуток от 2400 до 8000 приходится всего четверть товаров.\n",
        "\n",
        "Из 1015 строк наименований, только 902 уникальных. Значит, какие-то повторяются. Самое частотное тут - 'red tape men's formal shoes'. Поскольку все дубликаты мы выкинули, из этого следует, что такое название применяется к разным моделям с разной ценой. Пока запомним, позже решим, что с этим делать.\n",
        "\n",
        "Средний рейтинг товаров 3.94. Интересно посмотреть на корреляцию между рейтингом и ценой.\n",
        "\n",
        "По типу обуви на 4 мужские модели приходится 1 женская. Интересно, по разному ли они стоят.\n",
        "\n",
        "Описание. Здесь ситуация намного хуже. Только 715 уникальных описаний. Учитывая, что мы хотим по описанию предсказывать цену, выходит грустно. Давайте посмотрим на подтаблицу, где описание одно из самых частотных:"
      ]
    },
    {
      "cell_type": "code",
      "metadata": {
        "colab": {
          "base_uri": "https://localhost:8080/",
          "height": 423
        },
        "id": "OV246dYNcfIa",
        "outputId": "c34fba95-330d-4ffa-e3b4-a33a4f15ed45"
      },
      "source": [
        "cleantable[cleantable['desc'] == 'the product will be an excellent pick for you. it ensures an easy maintenance.']"
      ],
      "execution_count": 7,
      "outputs": [
        {
          "output_type": "execute_result",
          "data": {
            "text/html": [
              "<div>\n",
              "<style scoped>\n",
              "    .dataframe tbody tr th:only-of-type {\n",
              "        vertical-align: middle;\n",
              "    }\n",
              "\n",
              "    .dataframe tbody tr th {\n",
              "        vertical-align: top;\n",
              "    }\n",
              "\n",
              "    .dataframe thead th {\n",
              "        text-align: right;\n",
              "    }\n",
              "</style>\n",
              "<table border=\"1\" class=\"dataframe\">\n",
              "  <thead>\n",
              "    <tr style=\"text-align: right;\">\n",
              "      <th></th>\n",
              "      <th>title</th>\n",
              "      <th>price</th>\n",
              "      <th>rating</th>\n",
              "      <th>desc</th>\n",
              "      <th>sex</th>\n",
              "    </tr>\n",
              "  </thead>\n",
              "  <tbody>\n",
              "    <tr>\n",
              "      <th>1</th>\n",
              "      <td>bourge men's loire-z126 running shoes</td>\n",
              "      <td>479.0</td>\n",
              "      <td>3.9</td>\n",
              "      <td>the product will be an excellent pick for you....</td>\n",
              "      <td>1</td>\n",
              "    </tr>\n",
              "    <tr>\n",
              "      <th>29</th>\n",
              "      <td>sparx men's sd0631g casual shoes</td>\n",
              "      <td>438.0</td>\n",
              "      <td>4.2</td>\n",
              "      <td>the product will be an excellent pick for you....</td>\n",
              "      <td>1</td>\n",
              "    </tr>\n",
              "    <tr>\n",
              "      <th>93</th>\n",
              "      <td>sparx men's sm-402 sneakers</td>\n",
              "      <td>374.0</td>\n",
              "      <td>4.1</td>\n",
              "      <td>the product will be an excellent pick for you....</td>\n",
              "      <td>1</td>\n",
              "    </tr>\n",
              "    <tr>\n",
              "      <th>143</th>\n",
              "      <td>campus men's rodeo-2 running sport shoe</td>\n",
              "      <td>699.0</td>\n",
              "      <td>4.0</td>\n",
              "      <td>the product will be an excellent pick for you....</td>\n",
              "      <td>1</td>\n",
              "    </tr>\n",
              "    <tr>\n",
              "      <th>160</th>\n",
              "      <td>sparx men's sd0631g casual shoes</td>\n",
              "      <td>438.0</td>\n",
              "      <td>4.2</td>\n",
              "      <td>the product will be an excellent pick for you....</td>\n",
              "      <td>1</td>\n",
              "    </tr>\n",
              "    <tr>\n",
              "      <th>...</th>\n",
              "      <td>...</td>\n",
              "      <td>...</td>\n",
              "      <td>...</td>\n",
              "      <td>...</td>\n",
              "      <td>...</td>\n",
              "    </tr>\n",
              "    <tr>\n",
              "      <th>411</th>\n",
              "      <td>puma men's flex free xt idp running shoes</td>\n",
              "      <td>1649.0</td>\n",
              "      <td>3.8</td>\n",
              "      <td>the product will be an excellent pick for you....</td>\n",
              "      <td>1</td>\n",
              "    </tr>\n",
              "    <tr>\n",
              "      <th>459</th>\n",
              "      <td>adidas men's glick m running shoes</td>\n",
              "      <td>1972.0</td>\n",
              "      <td>4.1</td>\n",
              "      <td>the product will be an excellent pick for you....</td>\n",
              "      <td>1</td>\n",
              "    </tr>\n",
              "    <tr>\n",
              "      <th>543</th>\n",
              "      <td>adidas men's drogo m running shoes</td>\n",
              "      <td>1080.0</td>\n",
              "      <td>4.1</td>\n",
              "      <td>the product will be an excellent pick for you....</td>\n",
              "      <td>1</td>\n",
              "    </tr>\n",
              "    <tr>\n",
              "      <th>599</th>\n",
              "      <td>campus men's styger running shoes</td>\n",
              "      <td>1399.0</td>\n",
              "      <td>4.0</td>\n",
              "      <td>the product will be an excellent pick for you....</td>\n",
              "      <td>1</td>\n",
              "    </tr>\n",
              "    <tr>\n",
              "      <th>830</th>\n",
              "      <td>bata women's aroma fashion sandals</td>\n",
              "      <td>559.0</td>\n",
              "      <td>3.9</td>\n",
              "      <td>the product will be an excellent pick for you....</td>\n",
              "      <td>0</td>\n",
              "    </tr>\n",
              "  </tbody>\n",
              "</table>\n",
              "<p>27 rows × 5 columns</p>\n",
              "</div>"
            ],
            "text/plain": [
              "                                         title   price  rating  \\\n",
              "1        bourge men's loire-z126 running shoes   479.0     3.9   \n",
              "29            sparx men's sd0631g casual shoes   438.0     4.2   \n",
              "93                 sparx men's sm-402 sneakers   374.0     4.1   \n",
              "143    campus men's rodeo-2 running sport shoe   699.0     4.0   \n",
              "160           sparx men's sd0631g casual shoes   438.0     4.2   \n",
              "..                                         ...     ...     ...   \n",
              "411  puma men's flex free xt idp running shoes  1649.0     3.8   \n",
              "459         adidas men's glick m running shoes  1972.0     4.1   \n",
              "543         adidas men's drogo m running shoes  1080.0     4.1   \n",
              "599          campus men's styger running shoes  1399.0     4.0   \n",
              "830         bata women's aroma fashion sandals   559.0     3.9   \n",
              "\n",
              "                                                  desc  sex  \n",
              "1    the product will be an excellent pick for you....    1  \n",
              "29   the product will be an excellent pick for you....    1  \n",
              "93   the product will be an excellent pick for you....    1  \n",
              "143  the product will be an excellent pick for you....    1  \n",
              "160  the product will be an excellent pick for you....    1  \n",
              "..                                                 ...  ...  \n",
              "411  the product will be an excellent pick for you....    1  \n",
              "459  the product will be an excellent pick for you....    1  \n",
              "543  the product will be an excellent pick for you....    1  \n",
              "599  the product will be an excellent pick for you....    1  \n",
              "830  the product will be an excellent pick for you....    0  \n",
              "\n",
              "[27 rows x 5 columns]"
            ]
          },
          "metadata": {},
          "execution_count": 7
        }
      ]
    },
    {
      "cell_type": "code",
      "metadata": {
        "colab": {
          "base_uri": "https://localhost:8080/",
          "height": 300
        },
        "id": "2DCk_7nSxAup",
        "outputId": "c032337b-0c72-4613-bdc5-6fe11ccd69db"
      },
      "source": [
        "cleantable[cleantable['desc'] == 'the product will be an excellent pick for you. it ensures an easy maintenance.'].describe()"
      ],
      "execution_count": 8,
      "outputs": [
        {
          "output_type": "execute_result",
          "data": {
            "text/html": [
              "<div>\n",
              "<style scoped>\n",
              "    .dataframe tbody tr th:only-of-type {\n",
              "        vertical-align: middle;\n",
              "    }\n",
              "\n",
              "    .dataframe tbody tr th {\n",
              "        vertical-align: top;\n",
              "    }\n",
              "\n",
              "    .dataframe thead th {\n",
              "        text-align: right;\n",
              "    }\n",
              "</style>\n",
              "<table border=\"1\" class=\"dataframe\">\n",
              "  <thead>\n",
              "    <tr style=\"text-align: right;\">\n",
              "      <th></th>\n",
              "      <th>price</th>\n",
              "      <th>rating</th>\n",
              "      <th>sex</th>\n",
              "    </tr>\n",
              "  </thead>\n",
              "  <tbody>\n",
              "    <tr>\n",
              "      <th>count</th>\n",
              "      <td>27.000000</td>\n",
              "      <td>27.000000</td>\n",
              "      <td>27.000000</td>\n",
              "    </tr>\n",
              "    <tr>\n",
              "      <th>mean</th>\n",
              "      <td>795.925926</td>\n",
              "      <td>4.011111</td>\n",
              "      <td>0.962963</td>\n",
              "    </tr>\n",
              "    <tr>\n",
              "      <th>std</th>\n",
              "      <td>383.493749</td>\n",
              "      <td>0.128103</td>\n",
              "      <td>0.192450</td>\n",
              "    </tr>\n",
              "    <tr>\n",
              "      <th>min</th>\n",
              "      <td>374.000000</td>\n",
              "      <td>3.800000</td>\n",
              "      <td>0.000000</td>\n",
              "    </tr>\n",
              "    <tr>\n",
              "      <th>25%</th>\n",
              "      <td>569.000000</td>\n",
              "      <td>3.900000</td>\n",
              "      <td>1.000000</td>\n",
              "    </tr>\n",
              "    <tr>\n",
              "      <th>50%</th>\n",
              "      <td>679.000000</td>\n",
              "      <td>4.000000</td>\n",
              "      <td>1.000000</td>\n",
              "    </tr>\n",
              "    <tr>\n",
              "      <th>75%</th>\n",
              "      <td>897.500000</td>\n",
              "      <td>4.100000</td>\n",
              "      <td>1.000000</td>\n",
              "    </tr>\n",
              "    <tr>\n",
              "      <th>max</th>\n",
              "      <td>1972.000000</td>\n",
              "      <td>4.200000</td>\n",
              "      <td>1.000000</td>\n",
              "    </tr>\n",
              "  </tbody>\n",
              "</table>\n",
              "</div>"
            ],
            "text/plain": [
              "             price     rating        sex\n",
              "count    27.000000  27.000000  27.000000\n",
              "mean    795.925926   4.011111   0.962963\n",
              "std     383.493749   0.128103   0.192450\n",
              "min     374.000000   3.800000   0.000000\n",
              "25%     569.000000   3.900000   1.000000\n",
              "50%     679.000000   4.000000   1.000000\n",
              "75%     897.500000   4.100000   1.000000\n",
              "max    1972.000000   4.200000   1.000000"
            ]
          },
          "metadata": {},
          "execution_count": 8
        }
      ]
    },
    {
      "cell_type": "markdown",
      "metadata": {
        "id": "euI4pFXsxSl3"
      },
      "source": [
        "Окей, мы видим одно и то же описание у совершенно разных товаров. С ценой от 374 до до 1972 (в такой разброс помещаются больше половины всех товаров), с рейтингом от 3.8 до 4.2, в основном мужские."
      ]
    },
    {
      "cell_type": "markdown",
      "metadata": {
        "id": "AYarbz140hw0"
      },
      "source": [
        "Это плохо, давайте прикинем на сколько плохо.\n",
        "У нас 1000 товаров, у 30 одному и тому же описанию соответствует разная цена.  Как минимум 3% этих данных просто вредны, они вносят сумятицу.\n",
        "И это мы еще не сказали про то, что в большой таблице только 715 оригинальных описания. То есть у 400 из 1100 описаний может быть \"неоднозначное\" решение по цене, которое не будет полезно для обучения модели.\n",
        "\n",
        "\n",
        "Безусловно, после того, как мы выкинули из таблицы дубликаты - каждая строчка уникальна, то есть сочетанию наименование + описание + рейтинг + пол -> цена соответствует одна строчка. Но можно ли натренировать модель так, чтобы по слову \"дрого\" в описании она давал цену 1080 (строчка 543), а если при прочих равных вместо этого слова будет \"глик\" 1972 (строчка 459)?\n",
        "\n",
        "\n",
        "Выбирая между тем, чтобы взять все данные и построить ожидаемо плохую модель, или взять 60% данных, и построить перспективную модель, которую еще надо проверить, я останавливаюсь на втором варианте.\n",
        "\\\n",
        "Однако, чтобы проверить свою интуицию, ожидаемо плохую модель мы тоже построим"
      ]
    },
    {
      "cell_type": "code",
      "metadata": {
        "colab": {
          "base_uri": "https://localhost:8080/",
          "height": 283
        },
        "id": "wsopOEWAeGY7",
        "outputId": "2f3217c5-8d25-4c8d-f019-ab7e92bd38ec"
      },
      "source": [
        "print(cleantable[cleantable['sex'] == 1]['price'].hist()) #Видим, что большинство мужской обуви стоят до 2500"
      ],
      "execution_count": 9,
      "outputs": [
        {
          "output_type": "stream",
          "name": "stdout",
          "text": [
            "AxesSubplot(0.125,0.125;0.775x0.755)\n"
          ]
        },
        {
          "output_type": "display_data",
          "data": {
            "image/png": "[encoded data removed]",
            "text/plain": [
              "<Figure size 432x288 with 1 Axes>"
            ]
          },
          "metadata": {
            "needs_background": "light"
          }
        }
      ]
    },
    {
      "cell_type": "code",
      "metadata": {
        "colab": {
          "base_uri": "https://localhost:8080/",
          "height": 283
        },
        "id": "COAi4qxifXl_",
        "outputId": "6cadba41-17aa-4b9a-f309-55384d4fd5c4"
      },
      "source": [
        "print(cleantable[cleantable['sex'] == 0]['price'].hist()) #А женская обувь в целом дешевле, здесь большинство до 1000"
      ],
      "execution_count": 10,
      "outputs": [
        {
          "output_type": "stream",
          "name": "stdout",
          "text": [
            "AxesSubplot(0.125,0.125;0.775x0.755)\n"
          ]
        },
        {
          "output_type": "display_data",
          "data": {
            "image/png": "[encoded data removed]",
            "text/plain": [
              "<Figure size 432x288 with 1 Axes>"
            ]
          },
          "metadata": {
            "needs_background": "light"
          }
        }
      ]
    },
    {
      "cell_type": "code",
      "metadata": {
        "colab": {
          "base_uri": "https://localhost:8080/",
          "height": 283
        },
        "id": "9AEmbPP9iUuH",
        "outputId": "e8b73550-eda1-4ca0-a7c1-836ae4898b17"
      },
      "source": [
        "print(cleantable['rating'].hist()) #Средняя оценка 3.94"
      ],
      "execution_count": 11,
      "outputs": [
        {
          "output_type": "stream",
          "name": "stdout",
          "text": [
            "AxesSubplot(0.125,0.125;0.775x0.755)\n"
          ]
        },
        {
          "output_type": "display_data",
          "data": {
            "image/png": "[encoded data removed]",
            "text/plain": [
              "<Figure size 432x288 with 1 Axes>"
            ]
          },
          "metadata": {
            "needs_background": "light"
          }
        }
      ]
    },
    {
      "cell_type": "code",
      "metadata": {
        "colab": {
          "base_uri": "https://localhost:8080/",
          "height": 143
        },
        "id": "C6dAvt_FOW2v",
        "outputId": "d01b1f2d-e226-40d0-fe8f-ce60f8822655"
      },
      "source": [
        "cleantable.corr() # у оценки и цены есть небольшая корреляция"
      ],
      "execution_count": 12,
      "outputs": [
        {
          "output_type": "execute_result",
          "data": {
            "text/html": [
              "<div>\n",
              "<style scoped>\n",
              "    .dataframe tbody tr th:only-of-type {\n",
              "        vertical-align: middle;\n",
              "    }\n",
              "\n",
              "    .dataframe tbody tr th {\n",
              "        vertical-align: top;\n",
              "    }\n",
              "\n",
              "    .dataframe thead th {\n",
              "        text-align: right;\n",
              "    }\n",
              "</style>\n",
              "<table border=\"1\" class=\"dataframe\">\n",
              "  <thead>\n",
              "    <tr style=\"text-align: right;\">\n",
              "      <th></th>\n",
              "      <th>price</th>\n",
              "      <th>rating</th>\n",
              "      <th>sex</th>\n",
              "    </tr>\n",
              "  </thead>\n",
              "  <tbody>\n",
              "    <tr>\n",
              "      <th>price</th>\n",
              "      <td>1.000000</td>\n",
              "      <td>0.280056</td>\n",
              "      <td>0.02383</td>\n",
              "    </tr>\n",
              "    <tr>\n",
              "      <th>rating</th>\n",
              "      <td>0.280056</td>\n",
              "      <td>1.000000</td>\n",
              "      <td>-0.09978</td>\n",
              "    </tr>\n",
              "    <tr>\n",
              "      <th>sex</th>\n",
              "      <td>0.023830</td>\n",
              "      <td>-0.099780</td>\n",
              "      <td>1.00000</td>\n",
              "    </tr>\n",
              "  </tbody>\n",
              "</table>\n",
              "</div>"
            ],
            "text/plain": [
              "           price    rating      sex\n",
              "price   1.000000  0.280056  0.02383\n",
              "rating  0.280056  1.000000 -0.09978\n",
              "sex     0.023830 -0.099780  1.00000"
            ]
          },
          "metadata": {},
          "execution_count": 12
        }
      ]
    },
    {
      "cell_type": "code",
      "metadata": {
        "colab": {
          "base_uri": "https://localhost:8080/",
          "height": 265
        },
        "id": "81KHLUKknQX1",
        "outputId": "4095d826-9073-4ee5-bfc9-9642f5d6f2b4"
      },
      "source": [
        "import matplotlib.pyplot as plt\n",
        "plt.scatter(cleantable['rating'], cleantable['price'], marker='o'); #Оценки до 3 можно пересчитать по пальцам. 5 получили или очень дешевые или очень дрогие товары"
      ],
      "execution_count": 13,
      "outputs": [
        {
          "output_type": "display_data",
          "data": {
            "image/png": "[encoded data removed]",
            "text/plain": [
              "<Figure size 432x288 with 1 Axes>"
            ]
          },
          "metadata": {
            "needs_background": "light"
          }
        }
      ]
    },
    {
      "cell_type": "markdown",
      "metadata": {
        "id": "jHBdpvcXEH6K"
      },
      "source": [
        "Избавимся сейчас от дубликатов в описаниях, создадим новую таблицу clean2table"
      ]
    },
    {
      "cell_type": "code",
      "metadata": {
        "colab": {
          "base_uri": "https://localhost:8080/"
        },
        "id": "LB_00XvaNb9w",
        "outputId": "1cf81ea8-a9c2-4d5e-a92d-534299655575"
      },
      "source": [
        "clean2table = cleantable.drop_duplicates(subset='desc', keep = 'first') #Это тоже дискуссионный шаг, непонятно, почему мы оставляем первое вхождение.\n",
        "#Возможно было бы даже лучше оставить не какое-то вхождение, а добавить псевдоданные, где каждому описанию, которое повторилось,\n",
        "#Соответствовала средняя цена для этих повторений\n",
        "clean2table.shape"
      ],
      "execution_count": 14,
      "outputs": [
        {
          "output_type": "execute_result",
          "data": {
            "text/plain": [
              "(715, 5)"
            ]
          },
          "metadata": {},
          "execution_count": 14
        }
      ]
    },
    {
      "cell_type": "markdown",
      "metadata": {
        "id": "MnttA535N1F6"
      },
      "source": [
        "Векторизуем тексты. И заголовки, и описания, и для cleantable, и для clean2table\n",
        "Мы отдельно векторизуем заголовки и описания, потому что в заголовках встречается намного меньше слов и они намного более весомы. Так может упоминаться дорогой бренд или дешевый, повседневый вариант или премиальный"
      ]
    },
    {
      "cell_type": "code",
      "metadata": {
        "colab": {
          "base_uri": "https://localhost:8080/"
        },
        "id": "prFQ3EU5qkJE",
        "outputId": "f9673702-90dc-4f06-c680-e3781f222852"
      },
      "source": [
        "from nltk.tokenize import wordpunct_tokenize\n",
        "from sklearn.feature_extraction.text import CountVectorizer, TfidfVectorizer\n",
        "import nltk\n",
        "nltk.download('stopwords')\n",
        "nltk.download('punkt')\n",
        "nltk.download('wordnet')\n",
        "from nltk.stem import WordNetLemmatizer\n",
        "wordnet_lemmatizer = WordNetLemmatizer()\n",
        "from nltk.corpus import stopwords\n",
        "from nltk.tokenize import RegexpTokenizer\n",
        "\n",
        "\n",
        "tokenizer = RegexpTokenizer(r'\\w+')\n",
        "stops = stopwords.words(\"english\")\n",
        "\n",
        "tfidf = TfidfVectorizer(\n",
        "    analyzer=\"word\",\n",
        "    stop_words=stops)\n",
        "\n",
        "def lemmatize_column(column):\n",
        "  lemmatize = []\n",
        "  for text in column:\n",
        "      #tokenization = nltk.word_tokenize(text)\n",
        "\n",
        "      tokenization=tokenizer.tokenize(text.lower())\n",
        "      lm = ''\n",
        "      for word in tokenization:\n",
        "        flag=0\n",
        "        for alpha in word:\n",
        "          if alpha not in 'abcdefghijklmnopqrstuvwxyz1234567890-': #В названии модели могут быть числа\n",
        "            flag = 1\n",
        "        lemma = wordnet_lemmatizer.lemmatize(word)\n",
        "        if lemma in stops:\n",
        "          flag = 1\n",
        "        if flag == 0:\n",
        "          lm = lm+' '+ str(lemma)\n",
        "      lemmatize.append(lm)\n",
        "  return lemmatize\n",
        "\n",
        "desc1 = lemmatize_column(cleantable['desc'])\n",
        "title1 = lemmatize_column(cleantable['title'])\n",
        "desc2 = lemmatize_column(clean2table['desc'])\n",
        "title2 = lemmatize_column(clean2table['title'])"
      ],
      "execution_count": 15,
      "outputs": [
        {
          "output_type": "stream",
          "name": "stdout",
          "text": [
            "[nltk_data] Downloading package stopwords to /root/nltk_data...\n",
            "[nltk_data]   Package stopwords is already up-to-date!\n",
            "[nltk_data] Downloading package punkt to /root/nltk_data...\n",
            "[nltk_data]   Package punkt is already up-to-date!\n",
            "[nltk_data] Downloading package wordnet to /root/nltk_data...\n",
            "[nltk_data]   Package wordnet is already up-to-date!\n"
          ]
        }
      ]
    },
    {
      "cell_type": "code",
      "metadata": {
        "colab": {
          "base_uri": "https://localhost:8080/"
        },
        "id": "kFLue4NZMl5n",
        "outputId": "b1828e1a-db8a-4cbb-d0c7-5e8fa4f05359"
      },
      "source": [
        "print(len(desc1), len(title1), cleantable.shape)\n",
        "print(len(desc2), len(title2), clean2table.shape)"
      ],
      "execution_count": 16,
      "outputs": [
        {
          "output_type": "stream",
          "name": "stdout",
          "text": [
            "1015 1015 (1015, 5)\n",
            "715 715 (715, 5)\n"
          ]
        }
      ]
    },
    {
      "cell_type": "code",
      "metadata": {
        "id": "LSjwaMyj969b"
      },
      "source": [
        "vectorizer_d = CountVectorizer(min_df=5, max_df=0.4) #Будем использовать разные векторайзеры для описаний и наименований\n",
        "vectorizer_t = CountVectorizer(max_df=0.4) #Здесь не будем отрезать по нижней границе частотности\n",
        "\n",
        "title1_vec = pd.DataFrame(vectorizer_t.fit_transform(title1).toarray(), columns = vectorizer_t.get_feature_names())\n",
        "desc1_vec = pd.DataFrame(vectorizer_d.fit_transform(desc1).toarray()) #здесь не указываю имена колонок, чтобы не было повторений по словам с первой таблицей\n",
        "\n",
        "title2_vec = pd.DataFrame(vectorizer_t.fit_transform(title2).toarray(), columns = vectorizer_t.get_feature_names())\n",
        "desc2_vec = pd.DataFrame(vectorizer_d.fit_transform(desc2).toarray())\n",
        "\n",
        "data1 = title1_vec.join(desc1_vec).join(cleantable['sex']).join(cleantable['rating'])\n",
        "data2 = title2_vec.join(desc2_vec).join(clean2table['sex']).join(clean2table['rating'])\n"
      ],
      "execution_count": 17,
      "outputs": []
    },
    {
      "cell_type": "code",
      "metadata": {
        "colab": {
          "base_uri": "https://localhost:8080/"
        },
        "id": "z24zXhhPlSNN",
        "outputId": "3a524f86-93d2-48ba-e472-d4a495e43a82"
      },
      "source": [
        "print(set(cleantable['sex']), set(clean2table['sex']))\n",
        "print(len(title1_vec), len(desc1_vec), len(cleantable['sex']), len(cleantable['rating']))\n",
        "print(len(title2_vec), len(desc2_vec), len(clean2table['sex']), len(clean2table['rating']))\n",
        "print(set(data1['sex']), set(data2['sex']))  #Я не понимаю, откуда в таблице дата2 берутся наны((((( Дальше работаем только с дата1"
      ],
      "execution_count": 18,
      "outputs": [
        {
          "output_type": "stream",
          "name": "stdout",
          "text": [
            "{0, 1} {0, 1}\n",
            "1015 1015 1015 1015\n",
            "715 715 715 715\n",
            "{0, 1} {nan, 1.0, nan, nan, nan, nan, nan, nan, nan, nan, nan, nan, nan, nan, nan, nan, nan, nan, nan, nan, nan, nan, nan, nan, nan, nan, nan, nan, nan, nan, nan, nan, nan, nan, nan, nan, nan, nan, nan, nan, nan, nan, nan, nan, nan, nan, nan, nan, nan, nan, nan, nan, nan, nan, nan, nan, nan, nan, nan, nan, nan, nan, nan, nan, nan, nan, nan, nan, nan, nan, nan, nan, nan, nan, nan, nan, nan, nan, nan, nan, nan, nan, nan, nan, nan, nan, nan, nan, nan, nan, nan, nan, nan, nan, nan, nan, nan, nan, nan, nan, nan, nan, nan, nan, nan, nan, nan, nan, nan, nan, nan, nan, nan, nan, nan, nan, nan, nan, nan, nan, nan, nan, nan, nan, nan, nan, nan, nan, nan, nan, nan, nan, nan, nan, nan, nan, nan, nan, nan, nan, nan, nan, nan, nan, nan, nan, nan, nan, nan, nan, nan, nan, nan, nan, nan, nan, nan, nan, nan, nan, nan, nan, nan, nan, nan, nan, nan, nan, nan, nan, nan, nan, nan, nan, nan, nan, nan, nan, nan, nan, nan, nan, nan, nan, nan, nan, nan, nan, nan, nan, nan, nan, nan, nan, nan, nan, nan, nan, nan, nan, nan, nan, nan, nan, nan, nan, nan, nan, nan, nan, nan, nan, nan, nan, nan, nan, nan, nan, nan, nan, nan, nan, nan, nan, nan, nan, nan, nan, nan, nan, nan, nan, nan, nan, nan, nan, nan, nan, nan, nan, nan}\n"
          ]
        }
      ]
    },
    {
      "cell_type": "markdown",
      "metadata": {
        "id": "rV6NtxDtAdpx"
      },
      "source": [
        "Переходим к машинному обучению. Используем две модели - Ридж и Лассо. Сделаем гридсерч по гипермараметру альфа."
      ]
    },
    {
      "cell_type": "code",
      "metadata": {
        "colab": {
          "base_uri": "https://localhost:8080/"
        },
        "id": "_15oQ7OsPFTg",
        "outputId": "bb6c0ebf-37ef-4998-9e30-2b42ae91cc39"
      },
      "source": [
        "from sklearn.linear_model import LinearRegression, Ridge, Lasso, ElasticNet\n",
        "from sklearn.metrics import mean_squared_error\n",
        "import numpy as np\n",
        "from sklearn.model_selection import train_test_split\n",
        "from sklearn.model_selection import GridSearchCV\n",
        "\n",
        "parameters = {'alpha':[1,10,100]}\n",
        "model = Ridge()\n",
        "Ridge_reg= GridSearchCV(model, parameters, scoring='neg_mean_squared_error',cv=5)\n",
        "Ridge_reg.fit(data1, cleantable['price'])\n",
        "print('Для всех данных лучшая модель Риджа: \\n', Ridge_reg.best_estimator_)\n",
        "\n",
        "\n",
        "parameters = {'alpha':[1, 10,100]}\n",
        "model = Lasso()\n",
        "Lasso_reg= GridSearchCV(model, parameters, scoring='neg_mean_squared_error',cv=5)\n",
        "Lasso_reg.fit(data1, cleantable['price'])\n",
        "print('Для всех данных лучшая модель Лассо: \\n' , Lasso_reg.best_estimator_)\n",
        "\n",
        "\n",
        "\n"
      ],
      "execution_count": 19,
      "outputs": [
        {
          "output_type": "stream",
          "name": "stdout",
          "text": [
            "Для всех данных лучшая модель Риджа: \n",
            " Ridge(alpha=10, copy_X=True, fit_intercept=True, max_iter=None, normalize=False,\n",
            "      random_state=None, solver='auto', tol=0.001)\n"
          ]
        },
        {
          "output_type": "stream",
          "name": "stderr",
          "text": [
            "/usr/local/lib/python3.7/dist-packages/sklearn/linear_model/_coordinate_descent.py:476: ConvergenceWarning: Objective did not converge. You might want to increase the number of iterations. Duality gap: 427161.15866823494, tolerance: 204422.35068721927\n",
            "  positive)\n"
          ]
        },
        {
          "output_type": "stream",
          "name": "stdout",
          "text": [
            "Для всех данных лучшая модель Лассо: \n",
            " Lasso(alpha=1, copy_X=True, fit_intercept=True, max_iter=1000, normalize=False,\n",
            "      positive=False, precompute=False, random_state=None, selection='cyclic',\n",
            "      tol=0.0001, warm_start=False)\n"
          ]
        }
      ]
    },
    {
      "cell_type": "code",
      "metadata": {
        "colab": {
          "base_uri": "https://localhost:8080/"
        },
        "id": "B_QkePsVf04f",
        "outputId": "af5c0731-19f4-42e9-d057-cd569550a0cd"
      },
      "source": [
        "X_train, X_test, y_train, y_test = train_test_split(data1, cleantable['price'])\n",
        "regressor = Ridge(alpha=10, copy_X=True, fit_intercept=True, max_iter=None, normalize=False,\n",
        "      random_state=None, solver='auto', tol=0.001)\n",
        "regressor.fit(X_train, y_train)\n",
        "preds = regressor.predict(X_test)\n",
        "np.sqrt(mean_squared_error(y_test, preds))"
      ],
      "execution_count": 20,
      "outputs": [
        {
          "output_type": "execute_result",
          "data": {
            "text/plain": [
              "1005.6666450791818"
            ]
          },
          "metadata": {},
          "execution_count": 20
        }
      ]
    },
    {
      "cell_type": "markdown",
      "metadata": {
        "id": "kmeePh8UgVgN"
      },
      "source": [
        "Ошибаемся в среднем на 1000! Это дофига!\n",
        "Но к сожалению это данные с дублями, а данные без дублей у нас зафакапились по неизвестной причине...\n",
        "Попробуем нарисовать график того, что у нас получилось"
      ]
    },
    {
      "cell_type": "code",
      "metadata": {
        "colab": {
          "base_uri": "https://localhost:8080/",
          "height": 283
        },
        "id": "Hkh6HLUMhbGh",
        "outputId": "d82f72bb-0e82-4fc2-c736-f6b54f98c23a"
      },
      "source": [
        "gr_x = y_test.tolist()\n",
        "gr_y = preds.tolist()\n",
        "plt.scatter(gr_x, gr_y, marker='o')\n",
        "plt.scatter(range(0,5000,1), range(0,5000,1), color = 'red')"
      ],
      "execution_count": 21,
      "outputs": [
        {
          "output_type": "execute_result",
          "data": {
            "text/plain": [
              "<matplotlib.collections.PathCollection at 0x7f354562c9d0>"
            ]
          },
          "metadata": {},
          "execution_count": 21
        },
        {
          "output_type": "display_data",
          "data": {
            "image/png": "[encoded data removed]",
            "text/plain": [
              "<Figure size 432x288 with 1 Axes>"
            ]
          },
          "metadata": {
            "needs_background": "light"
          }
        }
      ]
    },
    {
      "cell_type": "markdown",
      "metadata": {
        "id": "ch6fKbWpivqZ"
      },
      "source": [
        "Если синяя точка отклоняется от красной линии вверх, то мы переборщили, если вниз, то не добрали. Как мы видим, мы ошибаемся вверх на маленьких ценах и начиная с 3000 чаще ошибаемся вниз"
      ]
    },
    {
      "cell_type": "markdown",
      "metadata": {
        "id": "K74CcVOdjHxE"
      },
      "source": [
        "Может быть вообще имело смысл отбросить все данные по цене больше 2400, чтобы не запутывать модель... Интересно будет послушать мнение проверяющих"
      ]
    },
    {
      "cell_type": "code",
      "metadata": {
        "colab": {
          "base_uri": "https://localhost:8080/"
        },
        "id": "fwBWzmZXitJM",
        "outputId": "32aa21ee-128c-406e-ffd7-0179d81c6483"
      },
      "source": [
        "regressor = Lasso(alpha=1, copy_X=True, fit_intercept=True, max_iter=1000, normalize=False,\n",
        "      positive=False, precompute=False, random_state=None, selection='cyclic',\n",
        "      tol=0.0001, warm_start=False)\n",
        "regressor.fit(X_train, y_train)\n",
        "preds = regressor.predict(X_test)\n",
        "np.sqrt(mean_squared_error(y_test, preds))"
      ],
      "execution_count": 22,
      "outputs": [
        {
          "output_type": "stream",
          "name": "stderr",
          "text": [
            "/usr/local/lib/python3.7/dist-packages/sklearn/linear_model/_coordinate_descent.py:476: ConvergenceWarning: Objective did not converge. You might want to increase the number of iterations. Duality gap: 233458.10482221842, tolerance: 197594.9939857556\n",
            "  positive)\n"
          ]
        },
        {
          "output_type": "execute_result",
          "data": {
            "text/plain": [
              "1072.8735944890766"
            ]
          },
          "metadata": {},
          "execution_count": 22
        }
      ]
    },
    {
      "cell_type": "markdown",
      "metadata": {
        "id": "wI040e5fjgx7"
      },
      "source": [
        "Лассо выдает примерно такую же точность"
      ]
    },
    {
      "cell_type": "markdown",
      "metadata": {
        "id": "2AKMwEoQjx4l"
      },
      "source": [
        "Посчитаем r2_score:"
      ]
    },
    {
      "cell_type": "code",
      "metadata": {
        "colab": {
          "base_uri": "https://localhost:8080/"
        },
        "id": "u-9XZK62jgLI",
        "outputId": "7afa7c6e-929a-4643-adf2-8d387e746018"
      },
      "source": [
        "from sklearn.metrics import r2_score\n",
        "r2_score(y_test, preds)"
      ],
      "execution_count": 23,
      "outputs": [
        {
          "output_type": "execute_result",
          "data": {
            "text/plain": [
              "0.4233358408386855"
            ]
          },
          "metadata": {},
          "execution_count": 23
        }
      ]
    },
    {
      "cell_type": "markdown",
      "metadata": {
        "id": "BkVva8Ljj0ok"
      },
      "source": [
        "Ну хотя бы больше 0 )))"
      ]
    },
    {
      "cell_type": "markdown",
      "metadata": {
        "id": "06OAT268j3Fd"
      },
      "source": [
        "Давайте теперь используем tf-idf vectorizer и перейдем ко второй части\n"
      ]
    },
    {
      "cell_type": "code",
      "metadata": {
        "id": "Ty1cs58-kCYG"
      },
      "source": [
        "tfidf = TfidfVectorizer(max_df=0.4)"
      ],
      "execution_count": 24,
      "outputs": []
    },
    {
      "cell_type": "code",
      "metadata": {
        "id": "vTRGow-lkzLw"
      },
      "source": [
        "title1_tfidf = pd.DataFrame(tfidf.fit_transform(title1).toarray())\n",
        "desc1_tfidf = pd.DataFrame(tfidf.fit_transform(desc1).toarray(), columns = tfidf.get_feature_names())\n",
        "title2_tfidf = pd.DataFrame(tfidf.fit_transform(title2).toarray())\n",
        "desc2_tfidf = pd.DataFrame(tfidf.fit_transform(desc2).toarray(), columns = tfidf.get_feature_names())"
      ],
      "execution_count": 25,
      "outputs": []
    },
    {
      "cell_type": "code",
      "metadata": {
        "id": "3tDyoPCdplWU"
      },
      "source": [
        "data1_tfidf = title1_tfidf.join(desc1_tfidf).join(cleantable['sex']).join(cleantable['rating'])\n",
        "data2_tfidf = title2_tfidf.join(desc2_tfidf).join(clean2table['sex']).join(clean2table['rating'])"
      ],
      "execution_count": 26,
      "outputs": []
    },
    {
      "cell_type": "code",
      "metadata": {
        "colab": {
          "base_uri": "https://localhost:8080/"
        },
        "id": "lVLnUDwwpwUp",
        "outputId": "401d2ce6-3f12-49ff-9716-ae82c6a579a1"
      },
      "source": [
        "print(set(data1_tfidf['sex']), set(data2_tfidf['sex'])) #Здесь тоже сломалось почему-то, продолжаем с data1_tfidf"
      ],
      "execution_count": 27,
      "outputs": [
        {
          "output_type": "stream",
          "name": "stdout",
          "text": [
            "{0, 1} {nan, 1.0, nan, nan, nan, nan, nan, nan, nan, nan, nan, nan, nan, nan, nan, nan, nan, nan, nan, nan, nan, nan, nan, nan, nan, nan, nan, nan, nan, nan, nan, nan, nan, nan, nan, nan, nan, nan, nan, nan, nan, nan, nan, nan, nan, nan, nan, nan, nan, nan, nan, nan, nan, nan, nan, nan, nan, nan, nan, nan, nan, nan, nan, nan, nan, nan, nan, nan, nan, nan, nan, nan, nan, nan, nan, nan, nan, nan, nan, nan, nan, nan, nan, nan, nan, nan, nan, nan, nan, nan, nan, nan, nan, nan, nan, nan, nan, nan, nan, nan, nan, nan, nan, nan, nan, nan, nan, nan, nan, nan, nan, nan, nan, nan, nan, nan, nan, nan, nan, nan, nan, nan, nan, nan, nan, nan, nan, nan, nan, nan, nan, nan, nan, nan, nan, nan, nan, nan, nan, nan, nan, nan, nan, nan, nan, nan, nan, nan, nan, nan, nan, nan, nan, nan, nan, nan, nan, nan, nan, nan, nan, nan, nan, nan, nan, nan, nan, nan, nan, nan, nan, nan, nan, nan, nan, nan, nan, nan, nan, nan, nan, nan, nan, nan, nan, nan, nan, nan, nan, nan, nan, nan, nan, nan, nan, nan, nan, nan, nan, nan, nan, nan, nan, nan, nan, nan, nan, nan, nan, nan, nan, nan, nan, nan, nan, nan, nan, nan, nan, nan, nan, nan, nan, nan, nan, nan, nan, nan, nan, nan, nan, nan, nan, nan, nan, nan, nan, nan, nan, nan, nan}\n"
          ]
        }
      ]
    },
    {
      "cell_type": "code",
      "metadata": {
        "colab": {
          "base_uri": "https://localhost:8080/"
        },
        "id": "b9pIKRNhp8jg",
        "outputId": "efa748ef-6250-4f07-a14a-8c0ee350d81d"
      },
      "source": [
        "from sklearn.linear_model import LinearRegression, Ridge, Lasso, ElasticNet\n",
        "from sklearn.metrics import mean_squared_error\n",
        "import numpy as np\n",
        "from sklearn.model_selection import train_test_split\n",
        "from sklearn.model_selection import GridSearchCV\n",
        "\n",
        "parameters = {'alpha':[1,10,100]}\n",
        "model = Ridge()\n",
        "Ridge_reg= GridSearchCV(model, parameters, scoring='neg_mean_squared_error',cv=5)\n",
        "Ridge_reg.fit(data1_tfidf, cleantable['price'])\n",
        "print('Для всех данных лучшая модель Риджа: \\n', Ridge_reg.best_estimator_)\n",
        "\n",
        "\n",
        "parameters = {'alpha':[1, 10,100]}\n",
        "model = Lasso()\n",
        "Lasso_reg= GridSearchCV(model, parameters, scoring='neg_mean_squared_error',cv=5)\n",
        "Lasso_reg.fit(data1, cleantable['price'])\n",
        "print('Для всех данных лучшая модель Лассо: \\n' , Lasso_reg.best_estimator_)"
      ],
      "execution_count": 28,
      "outputs": [
        {
          "output_type": "stream",
          "name": "stdout",
          "text": [
            "Для всех данных лучшая модель Риджа: \n",
            " Ridge(alpha=1, copy_X=True, fit_intercept=True, max_iter=None, normalize=False,\n",
            "      random_state=None, solver='auto', tol=0.001)\n"
          ]
        },
        {
          "output_type": "stream",
          "name": "stderr",
          "text": [
            "/usr/local/lib/python3.7/dist-packages/sklearn/linear_model/_coordinate_descent.py:476: ConvergenceWarning: Objective did not converge. You might want to increase the number of iterations. Duality gap: 427161.15866823494, tolerance: 204422.35068721927\n",
            "  positive)\n"
          ]
        },
        {
          "output_type": "stream",
          "name": "stdout",
          "text": [
            "Для всех данных лучшая модель Лассо: \n",
            " Lasso(alpha=1, copy_X=True, fit_intercept=True, max_iter=1000, normalize=False,\n",
            "      positive=False, precompute=False, random_state=None, selection='cyclic',\n",
            "      tol=0.0001, warm_start=False)\n"
          ]
        }
      ]
    },
    {
      "cell_type": "code",
      "metadata": {
        "colab": {
          "base_uri": "https://localhost:8080/"
        },
        "id": "Ul6ftPVsqJAj",
        "outputId": "813c110c-fde5-4199-d7fe-583f139815f3"
      },
      "source": [
        "X_train, X_test, y_train, y_test = train_test_split(data1_tfidf, cleantable['price'])\n",
        "regressor = Ridge(alpha=1, copy_X=True, fit_intercept=True, max_iter=None, normalize=False,\n",
        "      random_state=None, solver='auto', tol=0.001)\n",
        "regressor.fit(X_train, y_train)\n",
        "preds = regressor.predict(X_test)\n",
        "np.sqrt(mean_squared_error(y_test, preds))"
      ],
      "execution_count": 29,
      "outputs": [
        {
          "output_type": "execute_result",
          "data": {
            "text/plain": [
              "986.1977817685433"
            ]
          },
          "metadata": {},
          "execution_count": 29
        }
      ]
    },
    {
      "cell_type": "markdown",
      "metadata": {
        "id": "C9p1eSuxqWQs"
      },
      "source": [
        "974! Уже не за 1000, приятно"
      ]
    },
    {
      "cell_type": "code",
      "metadata": {
        "colab": {
          "base_uri": "https://localhost:8080/"
        },
        "id": "ImcCneG2qao2",
        "outputId": "8e5ead9a-9e88-4346-dd8b-ffbb31e5a201"
      },
      "source": [
        "regressor = Lasso(alpha=1, copy_X=True, fit_intercept=True, max_iter=1000, normalize=False,\n",
        "      positive=False, precompute=False, random_state=None, selection='cyclic',\n",
        "      tol=0.0001, warm_start=False)\n",
        "regressor.fit(X_train, y_train)\n",
        "preds = regressor.predict(X_test)\n",
        "np.sqrt(mean_squared_error(y_test, preds))"
      ],
      "execution_count": 30,
      "outputs": [
        {
          "output_type": "execute_result",
          "data": {
            "text/plain": [
              "1053.7151495667154"
            ]
          },
          "metadata": {},
          "execution_count": 30
        }
      ]
    },
    {
      "cell_type": "markdown",
      "metadata": {
        "id": "uvvcli0dqmNE"
      },
      "source": [
        "Лассо дает ошибку на 100 меньше чем для каунтвекторайзера. Посмотрим график:"
      ]
    },
    {
      "cell_type": "code",
      "metadata": {
        "colab": {
          "base_uri": "https://localhost:8080/",
          "height": 283
        },
        "id": "8qrjPKDAqkmO",
        "outputId": "37593c3e-fae5-4a06-ef29-a73d1048362e"
      },
      "source": [
        "gr_x = y_test.tolist()\n",
        "gr_y = preds.tolist()\n",
        "plt.scatter(gr_x, gr_y, marker='o')\n",
        "plt.scatter(range(0,5000,1), range(0,5000,1), color = 'red')"
      ],
      "execution_count": 31,
      "outputs": [
        {
          "output_type": "execute_result",
          "data": {
            "text/plain": [
              "<matplotlib.collections.PathCollection at 0x7f35456e50d0>"
            ]
          },
          "metadata": {},
          "execution_count": 31
        },
        {
          "output_type": "display_data",
          "data": {
            "image/png": "[encoded data removed]",
            "text/plain": [
              "<Figure size 432x288 with 1 Axes>"
            ]
          },
          "metadata": {
            "needs_background": "light"
          }
        }
      ]
    },
    {
      "cell_type": "markdown",
      "metadata": {
        "id": "3ZUaU6o5q4Ft"
      },
      "source": [
        "Все аналогично, в маленьких ценах чаще ошибаемся вверх, в больших вниз"
      ]
    },
    {
      "cell_type": "markdown",
      "metadata": {
        "id": "kWX_ip3MrCrd"
      },
      "source": [
        "# Часть 2"
      ]
    },
    {
      "cell_type": "code",
      "metadata": {
        "id": "XmwpzQEyrE_D"
      },
      "source": [
        "reviews = []\n",
        "ratings = []\n",
        "for line in table['reviews']:\n",
        "  reviews += line.split('||')\n",
        "for line in table['reviews_rating']:\n",
        "  ratings += line.split('||')\n",
        "  "
      ],
      "execution_count": 32,
      "outputs": []
    },
    {
      "cell_type": "code",
      "metadata": {
        "colab": {
          "base_uri": "https://localhost:8080/"
        },
        "id": "vIem_25ErWCh",
        "outputId": "978f0a3e-6400-4632-a3e5-0662f597796e"
      },
      "source": [
        "len(reviews) - len(ratings) #отлично, совпадает"
      ],
      "execution_count": 33,
      "outputs": [
        {
          "output_type": "execute_result",
          "data": {
            "text/plain": [
              "0"
            ]
          },
          "metadata": {},
          "execution_count": 33
        }
      ]
    },
    {
      "cell_type": "code",
      "metadata": {
        "id": "B6qRYxNXsaCt"
      },
      "source": [
        "import re\n",
        "ratings_clean = []\n",
        "for r in ratings:\n",
        "  ratings_clean.append(int(re.search(r'\\d', r).group(0)))"
      ],
      "execution_count": 34,
      "outputs": []
    },
    {
      "cell_type": "markdown",
      "metadata": {
        "id": "5dJLuoaavfWI"
      },
      "source": [
        "Поскольку отзывы очень короткие, попробуем модифицировать фунцкию лемматизации, разрешив использование стопслов, чтобы не потерять важную информацию типа отрицания"
      ]
    },
    {
      "cell_type": "code",
      "metadata": {
        "id": "wu9Idoi8vrkn"
      },
      "source": [
        "def lemmatize_column(column):\n",
        "  lemmatize = []\n",
        "  for text in column:\n",
        "      #tokenization = nltk.word_tokenize(text)\n",
        "\n",
        "      tokenization=tokenizer.tokenize(text.lower())\n",
        "      lm = ''\n",
        "      for word in tokenization:\n",
        "        flag=0\n",
        "        for alpha in word:\n",
        "          if alpha not in 'abcdefghijklmnopqrstuvwxyz1234567890-': #В названии модели могут быть числа\n",
        "            flag = 1\n",
        "        lemma = wordnet_lemmatizer.lemmatize(word)\n",
        "        if flag == 0:\n",
        "          lm = lm+' '+ str(lemma)\n",
        "      lemmatize.append(lm)\n",
        "  return lemmatize"
      ],
      "execution_count": 35,
      "outputs": []
    },
    {
      "cell_type": "code",
      "metadata": {
        "colab": {
          "base_uri": "https://localhost:8080/"
        },
        "id": "KalViQfwsu1N",
        "outputId": "1a519c6a-7e97-49ea-817d-e937b65a8b0a"
      },
      "source": [
        "reviews_clean = lemmatize_column(reviews)\n",
        "print(reviews[0:10])\n",
        "print(reviews_clean[0:10])"
      ],
      "execution_count": 36,
      "outputs": [
        {
          "output_type": "stream",
          "name": "stdout",
          "text": [
            "['Not happy with product', \" It's not as expected.\", ' AVERAGE PRODUCT', ' Pic more beautiful', ' Got damage product. But quality is average for 300₹', ' Bad product different from what was listed', ' Worst product', \" Don't buy\", ' Low quality makes pain on heals by sharp edges inside shoes', ' Do not buy it anyway']\n",
            "[' not happy with product', ' it s not a expected', ' average product', ' pic more beautiful', ' got damage product but quality is average for 300', ' bad product different from what wa listed', ' worst product', ' don t buy', ' low quality make pain on heals by sharp edge inside shoe', ' do not buy it anyway']\n"
          ]
        }
      ]
    },
    {
      "cell_type": "markdown",
      "metadata": {
        "id": "Y5L-7ToawRlt"
      },
      "source": [
        "Учитывая, что в первой части tfidf справился лучше, здесь тоже будем использовать его"
      ]
    },
    {
      "cell_type": "code",
      "metadata": {
        "id": "Lxfc1jaBq-4N"
      },
      "source": [
        "reviews_tfidf = pd.DataFrame(tfidf.fit_transform(reviews_clean).toarray(), columns = tfidf.get_feature_names())"
      ],
      "execution_count": 37,
      "outputs": []
    },
    {
      "cell_type": "code",
      "metadata": {
        "colab": {
          "base_uri": "https://localhost:8080/",
          "height": 317
        },
        "id": "j-tg-XXe3zKv",
        "outputId": "aec5e718-ef3b-42d3-cd91-1cf1e81b49b0"
      },
      "source": [
        "pd.DataFrame(ratings_clean).hist()"
      ],
      "execution_count": 38,
      "outputs": [
        {
          "output_type": "execute_result",
          "data": {
            "text/plain": [
              "array([[<matplotlib.axes._subplots.AxesSubplot object at 0x7f353aac8dd0>]],\n",
              "      dtype=object)"
            ]
          },
          "metadata": {},
          "execution_count": 38
        },
        {
          "output_type": "display_data",
          "data": {
            "image/png": "[encoded data removed]",
            "text/plain": [
              "<Figure size 432x288 with 1 Axes>"
            ]
          },
          "metadata": {
            "needs_background": "light"
          }
        }
      ]
    },
    {
      "cell_type": "markdown",
      "metadata": {
        "id": "HyOBg3j031Jx"
      },
      "source": [
        "Как мы видим, данные очень несбалансированы и, как это ожидаемо бывает в отзывах, - наиболее представлены полярные оценки. Важно будет определять, где 5, а где 1"
      ]
    },
    {
      "cell_type": "markdown",
      "metadata": {
        "id": "Qr889-q4xjJ8"
      },
      "source": [
        "В качестве алгоритмов будем использовать Логистическую регрессию, Метод к-ближайших соседей и Случайный лес"
      ]
    },
    {
      "cell_type": "code",
      "metadata": {
        "colab": {
          "base_uri": "https://localhost:8080/"
        },
        "id": "U-wHAqaOzOYg",
        "outputId": "bda0c444-6e6f-41f2-c22f-ff8e9b23fab2"
      },
      "source": [
        "from sklearn.linear_model import LogisticRegression\n",
        "\n",
        "model = LogisticRegression(solver='liblinear')\n",
        "param_grid = {\"C\":np.logspace(-3,3,7), \"penalty\":[\"l1\",\"l2\"]}\n",
        "clf = GridSearchCV(model, param_grid, cv=3)\n",
        "clf.fit(reviews_tfidf, ratings_clean)\n",
        "print('Для всех данных лучшая модель Логистической регрессии: \\n', clf.best_estimator_)\n"
      ],
      "execution_count": 39,
      "outputs": [
        {
          "output_type": "stream",
          "name": "stderr",
          "text": [
            "/usr/local/lib/python3.7/dist-packages/sklearn/svm/_base.py:947: ConvergenceWarning: Liblinear failed to converge, increase the number of iterations.\n",
            "  \"the number of iterations.\", ConvergenceWarning)\n"
          ]
        },
        {
          "output_type": "stream",
          "name": "stdout",
          "text": [
            "Для всех данных лучшая модель Логистической регрессии: \n",
            " LogisticRegression(C=1.0, class_weight=None, dual=False, fit_intercept=True,\n",
            "                   intercept_scaling=1, l1_ratio=None, max_iter=100,\n",
            "                   multi_class='auto', n_jobs=None, penalty='l2',\n",
            "                   random_state=None, solver='liblinear', tol=0.0001, verbose=0,\n",
            "                   warm_start=False)\n"
          ]
        }
      ]
    },
    {
      "cell_type": "code",
      "metadata": {
        "id": "_bp3o-tB-0HI"
      },
      "source": [
        "X_train, X_test, y_train, y_test = train_test_split(reviews_tfidf, ratings_clean)\n",
        "\n",
        "mod = LogisticRegression(C=1.0, class_weight=None, dual=False, fit_intercept=True,\n",
        "                   intercept_scaling=1, l1_ratio=None, max_iter=100,\n",
        "                   multi_class='auto', n_jobs=None, penalty='l2',\n",
        "                   random_state=None, solver='liblinear', tol=0.0001, verbose=0,\n",
        "                   warm_start=False)\n",
        "\n",
        "mod.fit(reviews_tfidf, ratings_clean)\n",
        "pred = mod.predict(X_test)"
      ],
      "execution_count": 40,
      "outputs": []
    },
    {
      "cell_type": "code",
      "metadata": {
        "colab": {
          "base_uri": "https://localhost:8080/"
        },
        "id": "MWU7hLViwwoZ",
        "outputId": "b5f59d49-5337-4a02-876d-3d9870e26284"
      },
      "source": [
        "from sklearn.metrics import *\n",
        "acc = accuracy_score(pred, y_test)\n",
        "micro_f1 = f1_score(pred, y_test, average = 'micro')\n",
        "micro_p = precision_score(pred, y_test, average = 'micro')\n",
        "micro_r = recall_score(pred, y_test, average = 'micro')\n",
        "macro_f1 = f1_score(pred, y_test, average = 'macro')\n",
        "macro_p = precision_score(pred, y_test, average = 'macro')\n",
        "macro_r = recall_score(pred, y_test, average = 'macro')\n",
        "print('acc={0:1.4f}'.format(acc))\n",
        "print('micro F1={0:1.4f}, micro P={1:1.4f}, micro R={2:1.4f}'.format(micro_f1, micro_p, micro_r))\n",
        "print('macro F1={0:1.4f}, macro P={1:1.4f}, macro R={2:1.4f}\\n'.format(macro_f1, macro_p, macro_r))"
      ],
      "execution_count": 41,
      "outputs": [
        {
          "output_type": "stream",
          "name": "stdout",
          "text": [
            "acc=0.6662\n",
            "micro F1=0.6662, micro P=0.6662, micro R=0.6662\n",
            "macro F1=0.4588, macro P=0.4503, macro R=0.6229\n",
            "\n"
          ]
        }
      ]
    },
    {
      "cell_type": "code",
      "metadata": {
        "colab": {
          "base_uri": "https://localhost:8080/",
          "height": 281
        },
        "id": "RRTMX7CzwwrA",
        "outputId": "984a76f2-50a9-4d5a-b454-15450e102407"
      },
      "source": [
        "import seaborn as sns\n",
        "import matplotlib.pyplot as plt\n",
        "%matplotlib inline\n",
        "\n",
        "sns.heatmap(data=confusion_matrix(y_test, pred), annot=True, fmt=\"d\", cbar=False, xticklabels=[1,2,3,4,5], yticklabels=[1,2,3,4,5])\n",
        "plt.title(\"Confusion matrix\")\n",
        "plt.show()"
      ],
      "execution_count": 42,
      "outputs": [
        {
          "output_type": "display_data",
          "data": {
            "image/png": "[encoded data removed]",
            "text/plain": [
              "<Figure size 432x288 with 1 Axes>"
            ]
          },
          "metadata": {
            "needs_background": "light"
          }
        }
      ]
    },
    {
      "cell_type": "markdown",
      "metadata": {
        "id": "3jxEoCRwChbw"
      },
      "source": [
        "Модель неплохо справляется с определением оценок на 1 и 5, при этом часто ошибается ставя оценку 5 отзывам на 4. Все между ними - 2, 3, 4 для модели в целом безразличны.. Это можно было ожидать, рассматривая изначальное распределение оценок. Заметим также, что модель угадала только 2 "
      ]
    },
    {
      "cell_type": "markdown",
      "metadata": {
        "id": "uekpt1Pcj7rt"
      },
      "source": [
        "Пробуем модель к-ближайших соседей:"
      ]
    },
    {
      "cell_type": "code",
      "metadata": {
        "id": "ESchtVCaD3QY"
      },
      "source": [
        "from sklearn.neighbors import KNeighborsClassifier"
      ],
      "execution_count": 43,
      "outputs": []
    },
    {
      "cell_type": "code",
      "metadata": {
        "id": "fwfTZTy4JgVq"
      },
      "source": [
        "model = KNeighborsClassifier()\n",
        "param_grid = {\"n_neighbors\": [5,7,9,11]}\n",
        "clf = GridSearchCV(model, param_grid, cv=3)\n",
        "clf.fit(X_train, y_train)"
      ],
      "execution_count": null,
      "outputs": []
    },
    {
      "cell_type": "markdown",
      "metadata": {
        "id": "AYCVHhfdNHyA"
      },
      "source": [
        "Понимаю, что тетрадка уже выглядит, как нудеж нуба, который не может разобраться, что у него не работает. Но тем не менее пожалуюсь, что гридсерч для кнн у меня не работает. Как видно на этом скрине кнн обучается за 2 секунды. Соответственно здесь у нас 4 параметра, 3 кроссвалидации, должно быть в 12 раз дольше то есть 24 секунды. Но уже за 2 минуты ничего не посчиталось... Я пробовал разное количество параметров и ждал до 10 минут, вот сейчас уже меньше некуда этих параметров, а он все равно не считает!![noname.png](data:image/png;base64,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)"
      ]
    },
    {
      "cell_type": "code",
      "metadata": {
        "id": "IqXlfIanLqIE"
      },
      "source": [
        "X_train, X_test, y_train, y_test = train_test_split(reviews_tfidf, ratings_clean)\n",
        "\n",
        "clf = KNeighborsClassifier(n_neighbors=7).fit(X_train, y_train)"
      ],
      "execution_count": 44,
      "outputs": []
    },
    {
      "cell_type": "code",
      "metadata": {
        "id": "9DIluX_FOAHj"
      },
      "source": [
        "pred = clf.predict(X_test)"
      ],
      "execution_count": 45,
      "outputs": []
    },
    {
      "cell_type": "code",
      "metadata": {
        "colab": {
          "base_uri": "https://localhost:8080/"
        },
        "id": "xDt-JZYvOiAr",
        "outputId": "caa9fcb1-7107-4687-b23e-22d54197b044"
      },
      "source": [
        "acc = accuracy_score(pred, y_test)\n",
        "micro_f1 = f1_score(pred, y_test, average = 'micro')\n",
        "micro_p = precision_score(pred, y_test, average = 'micro')\n",
        "micro_r = recall_score(pred, y_test, average = 'micro')\n",
        "macro_f1 = f1_score(pred, y_test, average = 'macro')\n",
        "macro_p = precision_score(pred, y_test, average = 'macro')\n",
        "macro_r = recall_score(pred, y_test, average = 'macro')\n",
        "print('acc={0:1.4f}'.format(acc))\n",
        "print('micro F1={0:1.4f}, micro P={1:1.4f}, micro R={2:1.4f}'.format(micro_f1, micro_p, micro_r))\n",
        "print('macro F1={0:1.4f}, macro P={1:1.4f}, macro R={2:1.4f}\\n'.format(macro_f1, macro_p, macro_r))"
      ],
      "execution_count": 46,
      "outputs": [
        {
          "output_type": "stream",
          "name": "stdout",
          "text": [
            "acc=0.5463\n",
            "micro F1=0.5463, micro P=0.5463, micro R=0.5463\n",
            "macro F1=0.3434, macro P=0.3389, macro R=0.4059\n",
            "\n"
          ]
        }
      ]
    },
    {
      "cell_type": "code",
      "metadata": {
        "colab": {
          "base_uri": "https://localhost:8080/",
          "height": 281
        },
        "id": "0zUNurXKOzRw",
        "outputId": "3c6f56ad-924e-4c89-f8ce-94f218797597"
      },
      "source": [
        "import seaborn as sns\n",
        "import matplotlib.pyplot as plt\n",
        "%matplotlib inline\n",
        "\n",
        "sns.heatmap(data=confusion_matrix(y_test, pred), annot=True, fmt=\"d\", cbar=False, xticklabels=[1,2,3,4,5], yticklabels=[1,2,3,4,5])\n",
        "plt.title(\"Confusion matrix\")\n",
        "plt.show()"
      ],
      "execution_count": 47,
      "outputs": [
        {
          "output_type": "display_data",
          "data": {
            "image/png": "[encoded data removed]",
            "text/plain": [
              "<Figure size 432x288 with 1 Axes>"
            ]
          },
          "metadata": {
            "needs_background": "light"
          }
        }
      ]
    },
    {
      "cell_type": "markdown",
      "metadata": {
        "id": "MSmEPXLLO34G"
      },
      "source": [
        "КНН тоже не различает ничего больше 1 и меньше 5, все 4-ки относит к 5. Но при этом довольно большому количеству единиц он присвоил оценку 5, что очень плохо!"
      ]
    },
    {
      "cell_type": "markdown",
      "metadata": {
        "id": "vgFSagGNPQei"
      },
      "source": [
        "Давайте теперь обучим дерево"
      ]
    },
    {
      "cell_type": "code",
      "metadata": {
        "id": "6g-ZcDV4QE95"
      },
      "source": [
        "param_grid = {\n",
        "    'bootstrap': [True],\n",
        "    'max_features': ['auto', 'sqrt', 'log2'],\n",
        "    'min_samples_leaf': [1, 2, 3, 4, 5],\n",
        "    'min_samples_split': [2, 4, 6, 8],\n",
        "    'n_estimators': [100, 200]\n",
        "}\n",
        "\n",
        "rf = RandomForestClassifier()\n",
        "\n",
        "clf = GridSearchCV(rf, param_grid, cv = 3, n_jobs = -1)\n",
        "clf.fit(reviews_tfidf, ratings_clean)\n",
        "print(clf.best_estimator_)"
      ],
      "execution_count": null,
      "outputs": []
    },
    {
      "cell_type": "markdown",
      "metadata": {
        "id": "_IJbsws1YwNh"
      },
      "source": [
        "Не работает, не обучается, 20 минут уже.... В общем я пытался\n",
        "![image.png](data:image/png;base64,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)"
      ]
    },
    {
      "cell_type": "code",
      "metadata": {
        "id": "l9kRwpOkPgI-"
      },
      "source": [
        "X_train, X_test, y_train, y_test = train_test_split(reviews_tfidf, ratings_clean)\n",
        "\n",
        "from sklearn.ensemble import RandomForestClassifier\n",
        "clf = RandomForestClassifier(bootstrap=True, ccp_alpha=0.0, class_weight=None,\n",
        "                       criterion='gini', max_depth=None, max_features=2,\n",
        "                       max_leaf_nodes=None, max_samples=None,\n",
        "                       min_impurity_decrease=0.0, min_impurity_split=None,\n",
        "                       min_samples_leaf=1, min_samples_split=2,\n",
        "                       min_weight_fraction_leaf=0.0, n_estimators=100,\n",
        "                       n_jobs=None, oob_score=False, random_state=None,\n",
        "                       verbose=0, warm_start=False).fit(X_train, y_train)\n",
        "pred = clf.predict(X_test)"
      ],
      "execution_count": 69,
      "outputs": []
    },
    {
      "cell_type": "code",
      "metadata": {
        "colab": {
          "base_uri": "https://localhost:8080/"
        },
        "id": "tpItPGQ-Pwgu",
        "outputId": "39f1b31f-9015-416f-d21d-6dc766311d07"
      },
      "source": [
        "acc = accuracy_score(pred, y_test)\n",
        "micro_f1 = f1_score(pred, y_test, average = 'micro')\n",
        "micro_p = precision_score(pred, y_test, average = 'micro')\n",
        "micro_r = recall_score(pred, y_test, average = 'micro')\n",
        "macro_f1 = f1_score(pred, y_test, average = 'macro')\n",
        "macro_p = precision_score(pred, y_test, average = 'macro')\n",
        "macro_r = recall_score(pred, y_test, average = 'macro')\n",
        "print('acc={0:1.4f}'.format(acc))\n",
        "print('micro F1={0:1.4f}, micro P={1:1.4f}, micro R={2:1.4f}'.format(micro_f1, micro_p, micro_r))\n",
        "print('macro F1={0:1.4f}, macro P={1:1.4f}, macro R={2:1.4f}\\n'.format(macro_f1, macro_p, macro_r))"
      ],
      "execution_count": 70,
      "outputs": [
        {
          "output_type": "stream",
          "name": "stdout",
          "text": [
            "acc=0.6511\n",
            "micro F1=0.6511, micro P=0.6511, micro R=0.6511\n",
            "macro F1=0.4634, macro P=0.4497, macro R=0.5283\n",
            "\n"
          ]
        }
      ]
    },
    {
      "cell_type": "code",
      "metadata": {
        "colab": {
          "base_uri": "https://localhost:8080/",
          "height": 281
        },
        "id": "SYW3g43xPwpy",
        "outputId": "c14c698e-3ab9-4edd-d349-ca2d358e0ccb"
      },
      "source": [
        "import seaborn as sns\n",
        "import matplotlib.pyplot as plt\n",
        "%matplotlib inline\n",
        "\n",
        "sns.heatmap(data=confusion_matrix(y_test, pred), annot=True, fmt=\"d\", cbar=False, xticklabels=[1,2,3,4,5], yticklabels=[1,2,3,4,5])\n",
        "plt.title(\"Confusion matrix\")\n",
        "plt.show()"
      ],
      "execution_count": 71,
      "outputs": [
        {
          "output_type": "display_data",
          "data": {
            "image/png": "[encoded data removed]",
            "text/plain": [
              "<Figure size 432x288 with 1 Axes>"
            ]
          },
          "metadata": {
            "needs_background": "light"
          }
        }
      ]
    },
    {
      "cell_type": "markdown",
      "metadata": {
        "id": "R4iIw9mlQAKg"
      },
      "source": [
        "Результат средний, лучше КНН и на уровне логистической регрессии. Все прежне описанные тенденции сохраняются"
      ]
    },
    {
      "cell_type": "markdown",
      "metadata": {
        "id": "h_gOknNpZNj3"
      },
      "source": [
        "Подводим итоги!\n",
        "\n",
        "По первой части задания - регрессия на тексте это не очень точно. Особенно плохо, что у рассмотренных нами данных был широкий разброс цен, от нескольких сотен до нескольких тысяч, возможно из-за этого получилась средняя ошибка - 1000. Тф_идф работает лучше чем каунт векторайзер. Жалко, что не получилось построить регрессию на данных без дубликатов описаний. Еще было бы разумно (но не знаю как - научите) оценить вклад векторов от названий и от описаний, понять от чего больше.\n",
        "\n",
        "\n",
        "По второй части - классификация на тексте чуть лучше)\n",
        "Но было бы здорово, чтобы классы были равнопредставлены. Так как оценок 2 и 3 было очень мало, то и классификаторы не научились их определять. Большинство отзывов на 4 классификатор относил к 5. Хорошо, что не к 1!\n",
        "Еще заметил, что у нас есть иерархия классов, наверное, для этого нужен специальный классификатор. То есть 1<2<3<4<5, соответственно было бы правильно больше штрафовать за ошибку между 1 и 5, и меньше штрафовать за ошибку между 3 и 4, интересно,реализовано ли такое в каком-нибудь из классификаторов?"
      ]
    }
  ]
}